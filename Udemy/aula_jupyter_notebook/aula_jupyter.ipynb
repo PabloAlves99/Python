{
 "cells": [
  {
   "cell_type": "markdown",
   "id": "54db445a-bf8e-4d0b-b9b8-9f074ea86245",
   "metadata": {},
   "source": [
    "# Esse é meu titulo\n",
    "Criar variável a"
   ]
  },
  {
   "cell_type": "code",
   "execution_count": 3,
   "id": "b6c34a31-0560-4d9e-9e5a-da38e0b6735b",
   "metadata": {},
   "outputs": [
    {
     "data": {
      "text/plain": [
       "2"
      ]
     },
     "execution_count": 3,
     "metadata": {},
     "output_type": "execute_result"
    }
   ],
   "source": [
    "a = 2\n",
    "a"
   ]
  },
  {
   "cell_type": "markdown",
   "id": "8e870926-642c-4e94-8607-5a2e1a733932",
   "metadata": {},
   "source": [
    "Essa linha cria B"
   ]
  },
  {
   "cell_type": "code",
   "execution_count": 4,
   "id": "d9709b4b-5c2f-418f-800a-d3ae68714cfa",
   "metadata": {},
   "outputs": [
    {
     "data": {
      "text/plain": [
       "4"
      ]
     },
     "execution_count": 4,
     "metadata": {},
     "output_type": "execute_result"
    }
   ],
   "source": [
    "b = a * 2\n",
    "b"
   ]
  },
  {
   "cell_type": "code",
   "execution_count": null,
   "id": "12bad689-17e0-4698-a876-1bc898aed6fe",
   "metadata": {},
   "outputs": [],
   "source": []
  }
 ],
 "metadata": {
  "kernelspec": {
   "display_name": "Python 3 (ipykernel)",
   "language": "python",
   "name": "python3"
  },
  "language_info": {
   "codemirror_mode": {
    "name": "ipython",
    "version": 3
   },
   "file_extension": ".py",
   "mimetype": "text/x-python",
   "name": "python",
   "nbconvert_exporter": "python",
   "pygments_lexer": "ipython3",
   "version": "3.11.4"
  }
 },
 "nbformat": 4,
 "nbformat_minor": 5
}
