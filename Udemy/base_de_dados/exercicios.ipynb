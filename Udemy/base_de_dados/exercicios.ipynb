{
 "cells": [
  {
   "cell_type": "markdown",
   "metadata": {},
   "source": [
    "# Exercicios básicos de SQL\n",
    "\n",
    "## A base de dados foi gerada automaticamente no DBEAVER, apenas adaptei para o exercício funcionar."
   ]
  },
  {
   "cell_type": "markdown",
   "metadata": {},
   "source": [
    "Apenas para não ocupar muito espaço, tranferi o Código `insert` para o arquivo\\\n",
    "inserir_dados.sql, onde eu inseri mais 141 clientes na base de dados. Apenas\\\n",
    "para ter mais dados os exercícios.\n",
    "\n",
    "- O código é:\n",
    "```sql\n",
    "INSERT INTO Customer (CustomerId, FirstName, LastName, Company, Address, City, State, Country, PostalCode, Phone, Fax, Email, SupportRepId)\n",
    "VALUES(61, 'Mariana', 'Lima', 'SuperTech Ltd', '456 Rua do Sol', 'Paris', NULL, 'France', '75001', '+33 1 23 45 67 89', '+33 1 23 45 67 90', 'mariana.lima@example.com', 3),\n",
    "...\n",
    "```\n",
    "até o Id 200\n",
    "\n",
    "obs: Foi gerado por inteligência artificial"
   ]
  },
  {
   "cell_type": "markdown",
   "metadata": {},
   "source": [
    "## Quantos clientes são de São Paulo?\n",
    "```sql\n",
    "SELECT COUNT(city) AS \"Clientes de São Paulo\"\n",
    "FROM Customer\n",
    "WHERE City = \"São Paulo\"\n",
    "```"
   ]
  },
  {
   "cell_type": "markdown",
   "metadata": {},
   "source": [
    "## Quantas pessoas temos com o sobrenome que inicia com a letra P?\n",
    "```SQL\n",
    "SELECT COUNT(LastName) AS \"Sobre nome começando com P\"\n",
    "FROM Customer\n",
    "WHERE LastName LIKE 'P%'\n",
    "```\n",
    "\n",
    "## LastName das pessoas que iniciam com P\n",
    "```SQL\n",
    "SELECT LastName AS Sobrenome\n",
    "FROM Customer\n",
    "WHERE LastName LIKE 'P%'\n",
    "```"
   ]
  },
  {
   "cell_type": "markdown",
   "metadata": {},
   "source": [
    "## Em quantas cidades únicas estão cadastrados nossos clientes?\n",
    "```SQL\n",
    "SELECT COUNT(DISTINCT(City)) AS \"Número de cidades\"\n",
    "FROM Customer\n",
    "```"
   ]
  },
  {
   "cell_type": "markdown",
   "metadata": {},
   "source": [
    "## Quais cidades únicas estão cadastrados nossos clientes?\n",
    "```SQL\n",
    "SELECT City As Cidades\n",
    "FROM Customer\n",
    "GROUP BY City\n",
    "```"
   ]
  },
  {
   "cell_type": "markdown",
   "metadata": {},
   "source": [
    "## Quantos Track tem Milliseconds entre 200000 a 300000 dolares?\n",
    "```SQL\n",
    "SELECT COUNT(Milliseconds) AS Total\n",
    "FROM Track\n",
    "WHERE Milliseconds BETWEEN 200000 AND 300000;\n",
    "```"
   ]
  },
  {
   "cell_type": "markdown",
   "metadata": {},
   "source": [
    "## Quantos produtos cadastrados tem a palavra 'lov' no nome deles?\n",
    "```SQL\n",
    "SELECT COUNT(Name) AS Total\n",
    "FROM Track\n",
    "WHERE Name LIKE '%lov%'\n",
    "```"
   ]
  },
  {
   "cell_type": "markdown",
   "metadata": {},
   "source": [
    "## Quantas pessoas tem o mesmo Lastname\n",
    "```SQL\n",
    "SELECT SUM(Quantidade) Soma_Grupos_Com_Mais_De_Uma_Pessoa\n",
    "FROM (\n",
    "    SELECT COUNT(*) AS Quantidade\n",
    "    FROM Customer \n",
    "    GROUP BY LastName\n",
    "    HAVING COUNT(*) > 1\n",
    ") AS Grupos;\n",
    "```\n",
    "\n",
    "## Quantas pessoas tem o mesmo Lastname em cada lastname\n",
    "```SQL\n",
    "SELECT LastName, COUNT(LastName) AS Quantidade\n",
    "FROM Customer \n",
    "GROUP BY LastName \n",
    "ORDER BY Quantidade DESC;\n",
    "```"
   ]
  },
  {
   "cell_type": "markdown",
   "metadata": {},
   "source": [
    "## Qual a média dos milleseconds\n",
    "```SQL\n",
    "SELECT AVG(Milliseconds)\n",
    "FROM Track\n",
    "```"
   ]
  },
  {
   "cell_type": "markdown",
   "metadata": {},
   "source": [
    "## Quais foram os maiores 10 Milliseconds \n",
    "```SQL\n",
    "SELECT Milliseconds\n",
    "FROM Track\n",
    "ORDER BY Milliseconds DESC\n",
    "LIMIT 10\n",
    "```"
   ]
  },
  {
   "cell_type": "markdown",
   "metadata": {},
   "source": [
    "## Encontre os Track com os bytes acima de 100000000\n",
    "```SQL\n",
    "SELECT *\n",
    "FROM Track\n",
    "WHERE Bytes > 10000000\n",
    "ORDER BY Bytes DESC\n",
    "```"
   ]
  },
  {
   "cell_type": "markdown",
   "metadata": {},
   "source": [
    "## Informe o nome da MediaType de acordo com a Foreign Key MediaTypeID da Track.\n",
    "```SQL\n",
    "SELECT t.Name, mt.Name \n",
    "FROM Track AS t\n",
    "LEFT JOIN MediaType AS mt \n",
    "ON T.MediaTypeId = mt.MediaTypeId \n",
    "LIMIT 10\n",
    "```"
   ]
  },
  {
   "cell_type": "markdown",
   "metadata": {},
   "source": [
    "## Union remove os duplicados\n",
    "```sql\n",
    "SELECT FirstName, LastName \n",
    "FROM Customer\n",
    "WHERE FirstName LIKE '%LUIZ%'\n",
    "UNION \n",
    "SELECT Name as \"Track Name\", Composer\n",
    "FROM Track t \n",
    "WHERE Composer  LIKE '%LUIZ%'\n",
    "```"
   ]
  }
 ],
 "metadata": {
  "language_info": {
   "name": "python"
  }
 },
 "nbformat": 4,
 "nbformat_minor": 2
}
