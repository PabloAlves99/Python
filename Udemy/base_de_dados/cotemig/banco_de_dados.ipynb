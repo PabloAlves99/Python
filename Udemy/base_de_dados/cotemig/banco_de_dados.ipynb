{
 "cells": [
  {
   "cell_type": "markdown",
   "metadata": {},
   "source": [
    "# **MODELAGEM**"
   ]
  },
  {
   "cell_type": "markdown",
   "metadata": {},
   "source": [
    "## Exemplos de tipos de dados\n",
    "\n",
    "### Tipos de Dados Numéricos:\n",
    "\n",
    "- **INT**: Utiliza-se o tipo de dados INT para armazenar valores inteiros.\n",
    "  - Exemplo: `INSERT INTO meus_valores (valor_inteiro) VALUES (10);`\n",
    "\n",
    "- **BIGINT**: O tipo de dados BIGINT é semelhante ao tipo INT, mas pode armazenar valores inteiros maiores.\n",
    "  - Exemplo: `INSERT INTO meus_valores (valor_grande) VALUES (9223372036854775808);`\n",
    "\n",
    "- **SMALLINT**: O tipo de dados SMALLINT é usado para armazenar valores inteiros menores.\n",
    "  - Exemplo: `INSERT INTO meus_valores (valor_pequeno) VALUES (-32768);`\n",
    "\n",
    "- **TINYINT**: O tipo de dados TINYINT é semelhante ao tipo SMALLINT, mas pode armazenar valores inteiros em um intervalo menor.\n",
    "  - Exemplo: `INSERT INTO meus_valores (valor_muito_pequeno) VALUES (-128);`\n",
    "\n",
    "- **DECIMAL**: O tipo de dados DECIMAL é usado para armazenar valores numéricos com uma precisão especificada.\n",
    "  - Exemplo: `INSERT INTO meus_valores (valor_decimal) VALUES (123.45);`\n",
    "\n",
    "- **FLOAT**: O tipo de dados FLOAT é usado para armazenar valores numéricos com uma precisão específica.\n",
    "  - Exemplo: `INSERT INTO meus_valores (valor_float) VALUES (3.1415926535897932385);`\n",
    "\n",
    "- **DOUBLE**: O tipo de dados DOUBLE é semelhante ao tipo FLOAT, mas pode armazenar valores numéricos com uma precisão maior.\n",
    "  - Exemplo: `INSERT INTO meus_valores (valor_double) VALUES (3.14159265358979323846);`\n",
    "\n",
    "### Tipos de Dados de Caractere:\n",
    "\n",
    "- **CHAR**: O tipo de dados CHAR é usado para armazenar dados de texto fixos com um comprimento específico.\n",
    "  - Exemplo: `CREATE TABLE meus_valores (nome CHAR(10));`\n",
    "\n",
    "- **VARCHAR**: O tipo de dados VARCHAR é semelhante ao tipo CHAR, mas permite valores de texto variáveis com comprimentos diferentes em cada coluna.\n",
    "  - Exemplo: `CREATE TABLE meus_valores (email VARCHAR(200));`\n",
    "\n",
    "- **TEXT**: Utiliza-se o tipo de dados TEXT para armazenar dados de texto longos e complexos.\n",
    "  - Exemplo: `INSERT INTO meus_valores (descricao) VALUES ('Este é um exemplo de valor de texto longo');`\n",
    "\n",
    "- **BLOB**: Utiliza-se o tipo de dados BLOB para armazenar dados binários, como imagens, vídeos e arquivos de documentos.\n",
    "  - Exemplo: `INSERT INTO meus_valores (imagem) VALUES (FILE('/caminho/para/imagem.jpg'));`\n"
   ]
  },
  {
   "cell_type": "markdown",
   "metadata": {},
   "source": [
    "## Executar os códigos SQL no vscode"
   ]
  },
  {
   "cell_type": "code",
   "execution_count": 1,
   "metadata": {},
   "outputs": [],
   "source": [
    "import sqlite3\n",
    "from pathlib import Path\n",
    "\n",
    "current_directory = %pwd # type: ignore\n",
    "ROOT_DIR = Path(current_directory)\n",
    "DB_NAME = 'cotemig_example.sql'\n",
    "DB_FILE = ROOT_DIR / DB_NAME\n",
    "TABLE_NAME = 'COTEMIG'\n",
    "\n",
    "# Criando banco de dados\n",
    "connection = sqlite3.connect(DB_FILE)\n",
    "\n",
    "# Conectando ao banco de dados\n",
    "cursor = connection.cursor()"
   ]
  },
  {
   "cell_type": "markdown",
   "metadata": {},
   "source": [
    "### Código para criar um banco de dados\n",
    "- `CREATE DATABASE nome_do_banco_de_dados;`\n",
    "\n",
    "### Código para usar o banco de dados\n",
    "- `USE nome_do_banco_de_dados;`"
   ]
  },
  {
   "cell_type": "markdown",
   "metadata": {},
   "source": [
    "## Criando tabela de forma simples"
   ]
  },
  {
   "cell_type": "code",
   "execution_count": 3,
   "metadata": {},
   "outputs": [
    {
     "data": {
      "text/plain": [
       "<sqlite3.Cursor at 0x1f0bf4043c0>"
      ]
     },
     "execution_count": 3,
     "metadata": {},
     "output_type": "execute_result"
    }
   ],
   "source": [
    "# Criando banco de dados\n",
    "connection = sqlite3.connect(DB_FILE)\n",
    "\n",
    "# Conectando ao banco de dados\n",
    "cursor = connection.cursor()\n",
    "\n",
    "cursor.execute (\n",
    "    \"CREATE TABLE Pessoa (\\\n",
    "        Nome VARCHAR(20),\\\n",
    "        Sobrenome VARCHAR(20),\\\n",
    "        Idade int)\"\n",
    ")"
   ]
  }
 ],
 "metadata": {
  "kernelspec": {
   "display_name": "venv",
   "language": "python",
   "name": "python3"
  },
  "language_info": {
   "codemirror_mode": {
    "name": "ipython",
    "version": 3
   },
   "file_extension": ".py",
   "mimetype": "text/x-python",
   "name": "python",
   "nbconvert_exporter": "python",
   "pygments_lexer": "ipython3",
   "version": "3.11.4"
  }
 },
 "nbformat": 4,
 "nbformat_minor": 2
}
