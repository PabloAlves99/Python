{
 "cells": [
  {
   "cell_type": "markdown",
   "metadata": {},
   "source": [
    "1) Insira 5 usuários"
   ]
  },
  {
   "cell_type": "code",
   "execution_count": 2,
   "metadata": {
    "vscode": {
     "languageId": "sql"
    }
   },
   "outputs": [
    {
     "ename": "SyntaxError",
     "evalue": "invalid syntax (2001933367.py, line 1)",
     "output_type": "error",
     "traceback": [
      "\u001b[1;36m  Cell \u001b[1;32mIn[2], line 1\u001b[1;36m\u001b[0m\n\u001b[1;33m    INSERT INTO users (first_name, last_name, email, password_hash, salary)\u001b[0m\n\u001b[1;37m           ^\u001b[0m\n\u001b[1;31mSyntaxError\u001b[0m\u001b[1;31m:\u001b[0m invalid syntax\n"
     ]
    }
   ],
   "source": [
    "INSERT INTO users (first_name, last_name, email, password_hash, salary) \n",
    "VALUES\n",
    "('João', 'Silva', 'joao.silva@example.com', 'HASH_123', 50000),\n",
    "('Maria', 'Santos', 'maria.santos@example.com', 'HASH_456', 60000),\n",
    "('Pedro', 'Lima', 'pedro.lima@example.com', 'HASH_789', 55000),\n",
    "('Ana', 'Costa', 'ana.costa@example.com', 'HASH_abc', 52000),\n",
    "('Carlos', 'Oliveira', 'carlos.oliveira@example.com', 'HASH_def', 58000)\n",
    ";"
   ]
  },
  {
   "cell_type": "markdown",
   "metadata": {},
   "source": [
    "2) Insira 5 perfís para os usuários inseridos"
   ]
  },
  {
   "cell_type": "code",
   "execution_count": null,
   "metadata": {
    "vscode": {
     "languageId": "sql"
    }
   },
   "outputs": [],
   "source": [
    "INSERT INTO profiles (bio, description, user_id)\n",
    "SELECT\n",
    "concat('Bio ex ', first_name),\n",
    "concat('Description ex ', first_name),\n",
    "id\n",
    "FROM users ORDER BY id DESC LIMIT 5;"
   ]
  },
  {
   "cell_type": "markdown",
   "metadata": {},
   "source": [
    "3) Insira permissões (roles) para os usuários inseridos"
   ]
  },
  {
   "cell_type": "code",
   "execution_count": null,
   "metadata": {
    "vscode": {
     "languageId": "sql"
    }
   },
   "outputs": [],
   "source": [
    "INSERT INTO users_roles (user_id, role_id)\n",
    "SELECT id, (SELECT id FROM roles ORDER BY rand() LIMIT 1)\n",
    "FROM users ORDER BY id DESC LIMIT 5;"
   ]
  },
  {
   "cell_type": "markdown",
   "metadata": {},
   "source": [
    "4) Selecione os últimos 5 usuários por ordem decrescente"
   ]
  },
  {
   "cell_type": "code",
   "execution_count": null,
   "metadata": {
    "vscode": {
     "languageId": "sql"
    }
   },
   "outputs": [],
   "source": [
    "SELECT * FROM users ORDER BY id DESC LIMIT 5;"
   ]
  },
  {
   "cell_type": "markdown",
   "metadata": {},
   "source": [
    "5) Atualize o último usuário inserido"
   ]
  },
  {
   "cell_type": "code",
   "execution_count": null,
   "metadata": {
    "vscode": {
     "languageId": "sql"
    }
   },
   "outputs": [],
   "source": [
    "UPDATE users SET first_name = 'NOME ATUALIZADO',\n",
    "last_name = 'EXERCÍCIO'\n",
    "WHERE id = 117;"
   ]
  },
  {
   "cell_type": "markdown",
   "metadata": {},
   "source": [
    "6) Remova uma permissão de algum usuário"
   ]
  },
  {
   "cell_type": "code",
   "execution_count": null,
   "metadata": {
    "vscode": {
     "languageId": "sql"
    }
   },
   "outputs": [],
   "source": [
    "DELETE FROM users_roles WHERE user_id = 518;"
   ]
  },
  {
   "cell_type": "markdown",
   "metadata": {},
   "source": [
    "7) Remova um usuário que tem a permissão \"PUT\""
   ]
  },
  {
   "cell_type": "code",
   "execution_count": null,
   "metadata": {
    "vscode": {
     "languageId": "sql"
    }
   },
   "outputs": [],
   "source": [
    "-- SELECT * FROM users_roles WHERE role_id = 11 LIMIT 1;\n",
    "DELETE FROM users_roles WHERE role_id = 11 LIMIT 1;"
   ]
  },
  {
   "cell_type": "markdown",
   "metadata": {},
   "source": [
    "8) Selecione usuários com perfís e permissões (obrigatório)"
   ]
  },
  {
   "cell_type": "code",
   "execution_count": null,
   "metadata": {
    "vscode": {
     "languageId": "sql"
    }
   },
   "outputs": [],
   "source": [
    "SELECT u.id AS uid, u.first_name, r.name, p.bio\n",
    "FROM users u\n",
    "INNER JOIN users_roles ur ON u.id = ur.user_id \n",
    "INNER JOIN roles r ON ur.role_id = r.id\n",
    "INNER JOIN profiles p ON p.user_id = u.id;"
   ]
  },
  {
   "cell_type": "markdown",
   "metadata": {},
   "source": [
    "9) Selecione usuários com perfís e permissões (opcional)"
   ]
  },
  {
   "cell_type": "code",
   "execution_count": null,
   "metadata": {
    "vscode": {
     "languageId": "sql"
    }
   },
   "outputs": [],
   "source": [
    "SELECT u.id as uid, u.first_name, r.name, p.bio \n",
    "from users u\n",
    "left join users_roles ur on u.id = ur.user_id \n",
    "left join roles r on ur.role_id = r.id\n",
    "left join profiles p on p.user_id = u.id;"
   ]
  },
  {
   "cell_type": "markdown",
   "metadata": {},
   "source": [
    "10) Selecione usuários com perfís e permissões ordenando por salário"
   ]
  },
  {
   "cell_type": "code",
   "execution_count": 3,
   "metadata": {
    "vscode": {
     "languageId": "sql"
    }
   },
   "outputs": [
    {
     "ename": "SyntaxError",
     "evalue": "invalid syntax (2118939927.py, line 1)",
     "output_type": "error",
     "traceback": [
      "\u001b[1;36m  Cell \u001b[1;32mIn[3], line 1\u001b[1;36m\u001b[0m\n\u001b[1;33m    SELECT u.id as uid, u.first_name, r.name, p.bio, u.salary\u001b[0m\n\u001b[1;37m           ^\u001b[0m\n\u001b[1;31mSyntaxError\u001b[0m\u001b[1;31m:\u001b[0m invalid syntax\n"
     ]
    }
   ],
   "source": [
    "SELECT u.id as uid, u.first_name, r.name, p.bio, u.salary \n",
    "from users u\n",
    "left join users_roles ur on u.id = ur.user_id \n",
    "left join roles r on ur.role_id = r.id\n",
    "left join profiles p on p.user_id = u.id\n",
    "order by u.salary ASC;"
   ]
  }
 ],
 "metadata": {
  "kernelspec": {
   "display_name": "venv",
   "language": "python",
   "name": "python3"
  },
  "language_info": {
   "codemirror_mode": {
    "name": "ipython",
    "version": 3
   },
   "file_extension": ".py",
   "mimetype": "text/x-python",
   "name": "python",
   "nbconvert_exporter": "python",
   "pygments_lexer": "ipython3",
   "version": "3.11.4"
  }
 },
 "nbformat": 4,
 "nbformat_minor": 2
}
